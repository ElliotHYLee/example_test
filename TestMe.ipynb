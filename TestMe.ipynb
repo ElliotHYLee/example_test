{
 "cells": [
  {
   "cell_type": "markdown",
   "id": "39aac6e6-ffac-4883-a8e5-baf13cca86b8",
   "metadata": {},
   "source": [
    "# Welcome to example test!"
   ]
  },
  {
   "cell_type": "code",
   "execution_count": 10,
   "id": "54537ef8-719d-4077-953e-2f1f9a3a8404",
   "metadata": {
    "tags": []
   },
   "outputs": [
    {
     "data": {
      "image/jpeg": "[encoded data removed]",
      "text/html": [
       "\n",
       "        <iframe\n",
       "            width=\"640\"\n",
       "            height=\"360\"\n",
       "            src=\"https://www.youtube.com/embed/oJHp8C-NxF8\"\n",
       "            frameborder=\"0\"\n",
       "            allowfullscreen\n",
       "            \n",
       "        ></iframe>\n",
       "        "
      ],
      "text/plain": [
       "<IPython.lib.display.YouTubeVideo at 0x7f9c842acd90>"
      ]
     },
     "execution_count": 10,
     "metadata": {},
     "output_type": "execute_result"
    }
   ],
   "source": [
    "from helper import *\n",
    "YouTubeVideo('3ZqztoNX4oo', width=640, height=360)"
   ]
  },
  {
   "cell_type": "markdown",
   "id": "e0a6253e-65cd-4a8c-a3e8-ca6ad6196374",
   "metadata": {
    "tags": []
   },
   "source": [
    "<font size=6> Question 1</font>\n",
    "<br><font size=4 >\n",
    "* **Implement a simple \"add\" function.**\n",
    "</font>"
   ]
  },
  {
   "cell_type": "code",
   "execution_count": 2,
   "id": "12d58170-e091-447f-98f6-49d53a78eb19",
   "metadata": {
    "tags": []
   },
   "outputs": [],
   "source": [
    "from helper import *\n",
    "\"\"\" Use this cell to work out your answer if necessary. \"\"\"\n",
    "def add(a, b):\n",
    "    # Code Below\n",
    "    \n",
    "    return None # replace None with your answer\n",
    "\n",
    "# feel free to test your answer before submission.\n",
    "\n",
    "# x = add(1, 1)\n",
    "# print(x)\n",
    "\n",
    "\n",
    "\"\"\" End of your answer \"\"\"\n",
    "ans[\"q1\"] = add"
   ]
  },
  {
   "cell_type": "markdown",
   "id": "b3583d3b-6486-49d1-b920-09181c44401c",
   "metadata": {
    "tags": []
   },
   "source": [
    "<font size=6> Question 2</font>\n",
    "<br><font size=4>\n",
    "* **Implement a function that sums numbers in a range. <br> For instnace sumRange(0, 10) returns 55.**\n",
    "</font>"
   ]
  },
  {
   "cell_type": "code",
   "execution_count": 3,
   "id": "a5d9f489-37fa-4a3a-91e4-415c63407a3a",
   "metadata": {},
   "outputs": [],
   "source": [
    "\"\"\" Use this cell to work out your answer if necessary. \"\"\"\n",
    "def sumRange(start, end):\n",
    "    # Code Below\n",
    "    \n",
    "    return None # replace None with your answer\n",
    "\n",
    "# feel free to test your answer before submission.\n",
    "\n",
    "\n",
    "\"\"\" End of your answer \"\"\"\n",
    "ans[\"q2\"] = sumRange"
   ]
  },
  {
   "cell_type": "markdown",
   "id": "29b52e1a-5bc7-46f8-b644-3f3562b5829d",
   "metadata": {
    "tags": []
   },
   "source": [
    "<font size=6> Question 3</font>\n",
    "<br><font size=4>\n",
    "* **Implement a function to calculate an area of a triangle.**\n",
    "</font>"
   ]
  },
  {
   "cell_type": "code",
   "execution_count": 8,
   "id": "7625ea19-2688-4c8a-be97-43eba24efb29",
   "metadata": {},
   "outputs": [],
   "source": [
    "\"\"\" Use this cell to work out your answer if necessary. \"\"\"\n",
    "def area_triangle(h, b):\n",
    "    # Code Below\n",
    "    \n",
    "    return None # replace None with your answer\n",
    "\n",
    "# feel free to test your answer before submission.\n",
    "\n",
    "\n",
    "\"\"\" End of your answer \"\"\"\n",
    "ans[\"q3\"] = area_triangle"
   ]
  },
  {
   "cell_type": "markdown",
   "id": "26c15c05-fc45-470e-94f3-61a32f64ca9c",
   "metadata": {},
   "source": [
    "<font size=6> Submit your final answers.</font>\n"
   ]
  },
  {
   "cell_type": "code",
   "execution_count": null,
   "id": "30d85ebb-6746-4f6d-ab0e-fcd54d5e9e2c",
   "metadata": {},
   "outputs": [],
   "source": [
    "\"\"\" Simply, run this cell. \"\"\"\n",
    "showResult(ans)"
   ]
  }
 ],
 "metadata": {
  "kernelspec": {
   "display_name": "Python 3 (ipykernel)",
   "language": "python",
   "name": "python3"
  },
  "language_info": {
   "codemirror_mode": {
    "name": "ipython",
    "version": 3
   },
   "file_extension": ".py",
   "mimetype": "text/x-python",
   "name": "python",
   "nbconvert_exporter": "python",
   "pygments_lexer": "ipython3",
   "version": "3.9.7"
  }
 },
 "nbformat": 4,
 "nbformat_minor": 5
}
